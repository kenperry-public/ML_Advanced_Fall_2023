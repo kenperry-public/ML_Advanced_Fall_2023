{
 "cells": [
  {
   "cell_type": "code",
   "execution_count": 1,
   "metadata": {
    "slideshow": {
     "slide_type": "notes"
    }
   },
   "outputs": [
    {
     "data": {
      "text/latex": [
       "$$\n",
       "\\newcommand{\\x}{\\mathbf{x}}\n",
       "\\newcommand{\\tx}{\\tilde{\\x}}\n",
       "\\newcommand{\\y}{\\mathbf{y}}\n",
       "\\newcommand{\\b}{\\mathbf{b}}\n",
       "\\newcommand{\\c}{\\mathbf{c}}\n",
       "\\newcommand{\\e}{\\mathbf{e}}\n",
       "\\newcommand{\\z}{\\mathbf{z}}\n",
       "\\newcommand{\\h}{\\mathbf{h}}\n",
       "\\newcommand{\\u}{\\mathbf{u}}\n",
       "\\newcommand{\\v}{\\mathbf{v}}\n",
       "\\newcommand{\\w}{\\mathbf{w}}\n",
       "\\newcommand{\\V}{\\mathbf{V}}\n",
       "\\newcommand{\\W}{\\mathbf{W}}\n",
       "\\newcommand{\\X}{\\mathbf{X}}\n",
       "\\newcommand{\\KL}{\\mathbf{KL}}\n",
       "\\newcommand{\\E}{{\\mathbb{E}}}\n",
       "\\newcommand{\\ip}{\\mathbf{{(i)}}}\n",
       "%\n",
       "% Test set\n",
       "\\newcommand{\\xt}{\\underline{\\x}}\n",
       "\\newcommand{\\yt}{\\underline{\\y}}\n",
       "\\newcommand{\\Xt}{\\underline{\\X}}\n",
       "\\newcommand{\\perfm}{\\mathcal{P}}\n",
       "%\n",
       "% \\ll indexes a layer; we can change the actual letter\n",
       "\\newcommand{\\ll}{l}\n",
       "\\newcommand{\\llp}{{(\\ll)}}\n",
       "%\n",
       "\\newcommand{Thetam}{\\Theta_{-0}}\n",
       "\n",
       "% CNN\n",
       "\\newcommand{\\kernel}{\\mathbf{k}} \n",
       "\\newcommand{\\dim}{d}\n",
       "\\newcommand{\\idxspatial}{{\\text{idx}}}\n",
       "\\newcommand{\\summaxact}{\\text{max}}\n",
       "%\n",
       "%\n",
       "\n",
       "% RNN\n",
       "% \\tt indexes a time step\n",
       "\\newcommand{\\tt}{t}\n",
       "\\newcommand{\\tp}{{(\\tt)}}\n",
       "%\n",
       "%\n",
       "\n",
       "% LSTM\n",
       "\\newcommand{\\g}{\\mathbf{g}}\n",
       "\\newcommand{\\remember}{\\mathbf{remember}}\n",
       "\\newcommand{\\save}{\\mathbf{save}}\n",
       "\\newcommand{\\focus}{\\mathbf{focus}}\n",
       "%\n",
       "%\n",
       "% NLP\n",
       "\\newcommand{\\Vocab}{\\mathbf{V}}\n",
       "\\newcommand{\\v}{\\mathbf{v}}\n",
       "\\newcommand{\\offset}{o}\n",
       "\\newcommand{\\o}{o}\n",
       "\\newcommand{\\E}{\\mathbf{E}}\n",
       "%\n",
       "%\n",
       "\\newcommand{\\loss}{\\mathcal{L}}\n",
       "\\newcommand{\\cost}{\\mathcal{L}}\n",
       "%\n",
       "%                     \n",
       "\\newcommand{\\pdata}{p_\\text{data}}\n",
       "\\newcommand{\\pmodel}{p_\\text{model}}\n",
       "%\n",
       "% SVM\n",
       "\\newcommand{\\margin}{{\\mathbb{m}}}\n",
       "\\newcommand{\\lmk}{\\boldsymbol{\\ell}}\n",
       "%\n",
       "% Functions with arguments\n",
       "\\def\\xsy#1#2{#1^#2}\n",
       "\\def\\rand#1{\\tilde{#1}}\n",
       "\\def\\randx{\\rand{\\x}}\n",
       "\\def\\randy{\\rand{\\y}}\n",
       "\\def\\trans#1{\\dot{#1}}\n",
       "\\def\\transx{\\trans{\\x}}\n",
       "\\def\\transy{\\trans{\\y}}\n",
       "%\n",
       "\\def\\argmax#1{\\underset{#1} {\\operatorname{argmax}} }\n",
       "\\def\\argmin#1{\\underset{#1} {\\operatorname{argmin}} }\n",
       "\\def\\max#1{\\underset{#1} {\\operatorname{max}} }\n",
       "\\def\\min#1{\\underset{#1} {\\operatorname{min}} }\n",
       "%\n",
       "\\def\\pr#1{\\mathcal{p}(#1)}\n",
       "\\def\\prc#1#2{\\mathcal{p}(#1 \\; | \\; #2)}\n",
       "\\def\\cnt#1{\\mathcal{count}_{#1}}\n",
       "\\def\\node#1{\\mathbb{#1}}\n",
       "%\n",
       "\\newcommand{\\floor}[1]{\\left\\lfloor #1 \\right\\rfloor}\n",
       "\\newcommand{\\ceil}[1]{\\left\\lceil #1 \\right\\rceil}\n",
       "%\n",
       "\\def\\loc#1{{\\text{##} {#1}}}\n",
       "%\n",
       "$$\n"
      ],
      "text/plain": [
       "<IPython.core.display.Latex object>"
      ]
     },
     "metadata": {},
     "output_type": "display_data"
    }
   ],
   "source": [
    "%run Latex_macros.ipynb"
   ]
  },
  {
   "cell_type": "markdown",
   "metadata": {
    "slideshow": {
     "slide_type": "slide"
    }
   },
   "source": [
    "# TimeGAN Synthetic Data: evaluation\n",
    "\n",
    "[paper](https://proceedings.neurips.cc/paper/2019/file/c9efe5f26cd17ba6216bbe2a7d26d490-Paper.pdf)\n",
    "- [supplement](https://www.vanderschaar-lab.com/papers/NIPS2019_TGAN_Supplementary.pdf)\n",
    "- [github](https://github.com/jsyoon0823/TimeGAN)"
   ]
  },
  {
   "cell_type": "markdown",
   "metadata": {
    "slideshow": {
     "slide_type": "subslide"
    }
   },
   "source": [
    "The real sample is a timeseries of OHLC+ (Open/High/Low/Close/Adj Close/Volume) of a single stock ticker.\n"
   ]
  },
  {
   "cell_type": "markdown",
   "metadata": {
    "slideshow": {
     "slide_type": "slide"
    }
   },
   "source": [
    "We use [Jansen's notebook](https://github.com/stefan-jansen/synthetic-data-for-finance/blob/main/02_evaluating_synthetic_data.ipynb) to evaluate the synthetic data created by the TimeGAN:\n",
    "- An example is\n",
    "    - a sequence of length $T$\n",
    "    - each element of the sequence has $n$ features\n",
    "    \n",
    "    \n",
    "To be concrete, we will refer to\n",
    "- the sequence dimension as the time/date dimensions\n",
    "- the feature dimensions as the ticker return dimension\n",
    "\n",
    "So an example is a timeseries across $T$ time steps, each element being a one-step sample of the returns of $n$ tickers.\n",
    "\n",
    "**n.b.,**\n",
    "Jansen's notebook is derived from (but not identical to) the [author's evaluation code](https://github.com/jsyoon0823/TimeGAN/blob/master/metrics/visualization_metrics.py)"
   ]
  },
  {
   "cell_type": "markdown",
   "metadata": {
    "slideshow": {
     "slide_type": "subslide"
    }
   },
   "source": [
    "The raw real data (file `stocks.csv`) is of shape $(N \\times n)$ where $N$ is the number of dates over 18 years.\n",
    "\n",
    "An example is formed by taking rolling slices (across the date dimension) of length $T$.\n",
    "\n",
    "A *sample* is a fixed number (`sample_size`) of sequences: shape $(\\text{sample_size} \\times T \\times n)$\n",
    "\n",
    "In order to evaluate TimeGAN, we compare properties of\n",
    "- the real sample `real_sample`\n",
    "- the synthetic sample `synthetic sample`"
   ]
  },
  {
   "cell_type": "markdown",
   "metadata": {
    "slideshow": {
     "slide_type": "subslide"
    }
   },
   "source": [
    "## Diversity\n",
    "\n",
    "We want to compare the distributional properties of the two samples.\n",
    "\n",
    "Because samples are  3 dimensional, there are two types of distributional properties\n",
    "- cross-sectional: ticker versus ticker\n",
    "    - relationship between returns of all tickers at each time\n",
    "- timeseries: time step versus time step\n",
    "    - relationship of the return of a *single* ticker across time\n",
    "    "
   ]
  },
  {
   "cell_type": "markdown",
   "metadata": {
    "slideshow": {
     "slide_type": "subslide"
    }
   },
   "source": [
    "This is not completely straight forward:\n",
    "\n",
    "Suppose we want to examine the cross-sectional properties\n",
    "- e.g., examining the $(n \\times n)$ correlation matrix of ticker versus ticker\n",
    "\n",
    "There are 2 other dimensions (sample index, time index) \n",
    "- but we need to create a one-dimensional vector for each ticker\n",
    "- in order to compute the pairwise correlation\n",
    "- so we need to pool the sample and time dimensions\n",
    "    - a ticker's one-dimensional vector has entries for every sample and every time step\n"
   ]
  },
  {
   "cell_type": "markdown",
   "metadata": {
    "slideshow": {
     "slide_type": "subslide"
    }
   },
   "source": [
    "Similarly for the timeseries relationship\n",
    "- need to pool the ticker and sample dimensions\n",
    "    - each time step's vector has entries for every sample and ticker\n",
    "- so we can create a one-dimensional vectors for each time step\n",
    "- in order to compute the pairwise correlation of one time step versus another\n"
   ]
  },
  {
   "cell_type": "markdown",
   "metadata": {
    "slideshow": {
     "slide_type": "subslide"
    }
   },
   "source": [
    "Although either method of pooling feels like we are mixing apples and oranges\n",
    "- as long as we apply the sample pooling to the real and synthetic samples\n",
    "- we are aligning comparable returns\n",
    "    - same (sample, time) pair or same (sample, ticker) pair\n",
    "    - so never really mix\n",
    "  "
   ]
  },
  {
   "cell_type": "markdown",
   "metadata": {
    "slideshow": {
     "slide_type": "subslide"
    }
   },
   "source": [
    "Which to choose ?\n",
    "\n",
    "Why not both !\n",
    "\n",
    "From a statistical point of view\n",
    "- all samples are draws from the same distribution\n",
    "- so seems reasonable to pool across samples\n"
   ]
  },
  {
   "cell_type": "markdown",
   "metadata": {
    "slideshow": {
     "slide_type": "subslide"
    }
   },
   "source": [
    "### Visual comparison: PCA \n",
    " \n",
    "Rather than comparing the correlation matrix of the real sample to the correlation matrix of the synthetic sample\n",
    "- the authors used dimensionality reduction (PCA)\n",
    "- to reduce\n",
    "    - the $T$ time steps to 2 component \"time factors\" for timeseries property analysis\n",
    "    - the $n$ tickers to 2 component \"ticker factors\" for ticker property analysis\n",
    "- the PCA is performed **only on the real sample**\n",
    "    - the \"true\" factors\n",
    "    \n",
    "Reduction to two dimensions allows us to create a scatter plot of each entry in the pooled data of a sample.\n",
    "- Places each entry in the 2D space of Component 1 versus component 2\n",
    "\n",
    "By superposing the scatter plot of the real and synthetic samples\n",
    "- we hope to see if the factors identified for the real sample\n",
    "- are a good explanation for the structure of the synthetic sample-\n"
   ]
  },
  {
   "cell_type": "markdown",
   "metadata": {
    "slideshow": {
     "slide_type": "subslide"
    }
   },
   "source": [
    "**Pooling methods: Author versus Jansen**\n",
    "\n",
    "Both Jansen and the authors create a second dimension equal to $T$\n",
    "- the authors eliminate the ticker dimension by taking the *mean* across all tickers at a single time\n",
    "- Jensen combines the `sample_size` and ticker dimension to one dimension of size $\\text{sample_size} * n$\n",
    "    - pooling observations across tickers\n",
    "\n",
    "**This is certainly something we can discuss !**\n",
    "- taking the mean eliminates distinctions between tickers\n",
    "- combining sample and ticker dimensions is equivalent to saying that the \"time factor\"\n",
    "    - that generates daily returns for one ticker\n",
    "    - is shared by all tickers (by the pooling across tickers)"
   ]
  },
  {
   "cell_type": "markdown",
   "metadata": {
    "slideshow": {
     "slide_type": "subslide"
    }
   },
   "source": [
    "## Visual comparison: t-SNE\n",
    "\n",
    "The authors (and Jansen) plot the real and synthetic samples in 2 dimensions using t-SNE\n",
    "- another dimensionality reduction technique\n",
    "\n",
    "Again, the superposing of plots of the two samples enables a visual comparison."
   ]
  },
  {
   "cell_type": "markdown",
   "metadata": {
    "slideshow": {
     "slide_type": "subslide"
    }
   },
   "source": [
    "Here are some visualizations\n",
    "- Each row visualizes the result of a different model\n",
    "    - TimeGAN is first row\n",
    "- Red is real sample; Blue is synthetic\n",
    "- Columns 1 and 2 show results on the \"Sines\" real dataset\": t-SNE and PCA visualization\n",
    "- Columns 3 and 4 shows results on the \"Stocks\" real dataset: t-SNE and PCA visualization\n",
    "\n",
    "**Note**\n",
    "\n",
    "t-SNE coordinates are dependent on the data\n",
    "- so the \"real\" (red) plots on different rows may not appear identical\n",
    "- because the t-SNE computation takes the blue points into account too"
   ]
  },
  {
   "cell_type": "markdown",
   "metadata": {
    "slideshow": {
     "slide_type": "subslide"
    }
   },
   "source": [
    "<table>\n",
    "    <tr>\n",
    "        <th><center>Visualizations: TimeGAN and Competitors</center></th>\n",
    "    </tr>\n",
    "    <tr>\n",
    "        <td><img src=\"images/tsgan_pca_tsne_vs_benchmarks.png\"></td>\n",
    "    </tr>\n",
    "</table>"
   ]
  },
  {
   "cell_type": "markdown",
   "metadata": {
    "slideshow": {
     "slide_type": "slide"
    }
   },
   "source": [
    "## Fidelity\n",
    "\n",
    "Obtain a sample of real and synthetic data\n",
    "- Pooled into 2 dimensional structure of dimension $(\\text{sample_size} * n \\times T)$\n",
    "- Split each sample into a training and test cohort\n",
    "- Train a simple sequence Classifier\n",
    "    - RNN on sequences of length $T$\n",
    "        - reduces sequence to a fixed length vector\n",
    "    - Binary Classifier: `Dense` layer with 1 unit and a sigmoid activation\n",
    "\n",
    "The Sequence Classifier's performance metric is *worse* out of sample\n",
    "- suggesting that a classifier cannot distinguish between real and synthetic examples\n",
    "- hence: the quality of synthetic examples is good"
   ]
  },
  {
   "cell_type": "markdown",
   "metadata": {
    "slideshow": {
     "slide_type": "slide"
    }
   },
   "source": [
    "# Predictive: Train Synthetic, Test Real (TSTR)\n",
    "\n",
    "The author's define a Target task\n",
    "- given a prefix of the timeseries: predict the one-step ahead element\n",
    "\n",
    "The model\n",
    "- Uses an RNN accepting input sequences of length at most $(T-1)$\n",
    "- Followed by a `Dense` layer with $n$ units\n",
    "\n",
    "It is trained on the synthetic sample\n",
    "\n",
    "```\n",
    "synthetic_train = synthetic_data[:, :T-1, :]\n",
    "synthetic_label = synthetic_data[:, -1, :]\n",
    "```"
   ]
  },
  {
   "cell_type": "markdown",
   "metadata": {
    "slideshow": {
     "slide_type": "subslide"
    }
   },
   "source": [
    "Two models are trained; both are evaluated on the same *real* sample\n",
    "- one trained on a *synthetic* sample\n",
    "- one trained on a *real* sample\n",
    "\n",
    "The authors find that the Performance Metric MAE (Mean Absolute Error)\n",
    "- is lower for the model trained on synthetic\n",
    "- compared to the model trained on real\n",
    "\n",
    "Concluding that the synthetic sample is \"good enough\" for the Target task."
   ]
  },
  {
   "cell_type": "markdown",
   "metadata": {
    "slideshow": {
     "slide_type": "slide"
    }
   },
   "source": [
    "# Suggestions\n",
    "\n",
    "The OHLC data has a number of mathematically defined constraints for each step of the timeseries\n",
    "\n",
    "$$\n",
    "\\begin{array} \\\\\n",
    "\\text{Low}  \\le \\text{Close} \\le \\text{High} \\\\\n",
    "\\text{Low}  \\le \\text{Open} \\le \\text{High} \\\\\n",
    "\\end{array}\n",
    "$$\n",
    "\n",
    "Does the synthetic sample obey these constraints ?\n",
    "- Nothing in the Loss function to constrain it\n",
    "- Could we add a constraint to the Loss to enforce this ?"
   ]
  }
 ],
 "metadata": {
  "celltoolbar": "Slideshow",
  "kernelspec": {
   "display_name": "Python 3",
   "language": "python",
   "name": "python3"
  },
  "language_info": {
   "codemirror_mode": {
    "name": "ipython",
    "version": 3
   },
   "file_extension": ".py",
   "mimetype": "text/x-python",
   "name": "python",
   "nbconvert_exporter": "python",
   "pygments_lexer": "ipython3",
   "version": "3.7.4"
  },
  "toc": {
   "base_numbering": 1,
   "nav_menu": {},
   "number_sections": true,
   "sideBar": true,
   "skip_h1_title": false,
   "title_cell": "Table of Contents",
   "title_sidebar": "Contents",
   "toc_cell": false,
   "toc_position": {
    "height": "calc(100% - 180px)",
    "left": "10px",
    "top": "150px",
    "width": "369.594px"
   },
   "toc_section_display": true,
   "toc_window_display": true
  }
 },
 "nbformat": 4,
 "nbformat_minor": 2
}
