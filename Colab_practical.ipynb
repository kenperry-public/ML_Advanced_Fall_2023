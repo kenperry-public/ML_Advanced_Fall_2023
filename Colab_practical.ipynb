{
  "cells": [
    {
      "cell_type": "markdown",
      "metadata": {
        "id": "Mcqk5eFR1AMf"
      },
      "source": [
        "# Check to see if we're running in Colab (versus local server)"
      ]
    },
    {
      "cell_type": "code",
      "execution_count": 13,
      "metadata": {
        "colab": {
          "base_uri": "https://localhost:8080/"
        },
        "id": "NOZzAJuD1FqK",
        "outputId": "2adbdb4b-d4df-43c1-c13d-27639a5b352f"
      },
      "outputs": [
        {
          "output_type": "stream",
          "name": "stdout",
          "text": [
            "We're running Colab\n"
          ]
        }
      ],
      "source": [
        "try:\n",
        "  from google.colab import drive\n",
        "  IN_COLAB=True\n",
        "except:\n",
        "  IN_COLAB=False\n",
        "\n",
        "if IN_COLAB:\n",
        "  print(\"We're running Colab\")"
      ]
    },
    {
      "cell_type": "code",
      "execution_count": 14,
      "metadata": {
        "id": "kvHzvOhNFBae",
        "outputId": "c160f476-12a6-4617-cf7a-f52802528d0d",
        "colab": {
          "base_uri": "https://localhost:8080/"
        }
      },
      "outputs": [
        {
          "output_type": "stream",
          "name": "stdout",
          "text": [
            "Running TensorFlow version  2.8.0\n",
            "Version 2, minor 8\n"
          ]
        }
      ],
      "source": [
        "import tensorflow as tf\n",
        "\n",
        "print(\"Running TensorFlow version \",tf.__version__)\n",
        "\n",
        "# Parse tensorflow version\n",
        "import re\n",
        "\n",
        "version_match = re.match(\"([0-9]+)\\.([0-9]+)\", tf.__version__)\n",
        "tf_major, tf_minor = int(version_match.group(1)) , int(version_match.group(2))\n",
        "print(\"Version {v:d}, minor {m:d}\".format(v=tf_major, m=tf_minor) )"
      ]
    },
    {
      "cell_type": "code",
      "source": [
        "gpu_devices = tf.config.experimental.list_physical_devices('GPU')\n",
        "if gpu_devices:\n",
        "    print('Using GPU')\n",
        "    tf.config.experimental.set_memory_growth(gpu_devices[0], True)\n",
        "else:\n",
        "    print('Using CPU')"
      ],
      "metadata": {
        "id": "q_uHRSBjFM7I",
        "outputId": "fe10fffa-d2b8-4fa5-febb-40a42ab7f19c",
        "colab": {
          "base_uri": "https://localhost:8080/"
        }
      },
      "execution_count": 15,
      "outputs": [
        {
          "output_type": "stream",
          "name": "stdout",
          "text": [
            "Using GPU\n"
          ]
        }
      ]
    },
    {
      "cell_type": "markdown",
      "metadata": {
        "id": "Ma_WihlT23zc"
      },
      "source": [
        "# Mount the Google Drive (if we're in Colab), switch current directory to a directory on the Google Drive\n",
        "- we will (optionally) create the specified directory on the Google Drive if it doesn't exist"
      ]
    },
    {
      "cell_type": "code",
      "execution_count": 16,
      "metadata": {
        "colab": {
          "base_uri": "https://localhost:8080/"
        },
        "id": "QtwAzGXgrBzy",
        "outputId": "2cceaefb-2d6e-41dd-aeda-db1559fa89ee"
      },
      "outputs": [
        {
          "output_type": "stream",
          "name": "stdout",
          "text": [
            "Colab: mounting Google drive on  /content/gdrive\n",
            "Drive already mounted at /content/gdrive; to attempt to forcibly remount, call drive.mount(\"/content/gdrive\", force_remount=True).\n",
            "\n",
            "Colab: making sure  /content/gdrive/My Drive/Colab Notebooks/NYU/demo  exists.\n",
            "\n",
            "Colab: Changing directory to  /content/gdrive/My Drive/Colab Notebooks/NYU/demo\n",
            "/content/gdrive/My Drive/Colab Notebooks/NYU/demo\n"
          ]
        }
      ],
      "source": [
        "if IN_COLAB:\n",
        "  # Mount the Google Drive at mount\n",
        "  mount='/content/gdrive'\n",
        "  print(\"Colab: mounting Google drive on \", mount)\n",
        "\n",
        "  drive.mount(mount)\n",
        "\n",
        "  # Switch to the directory on the Google Drive that you want to use\n",
        "  import os\n",
        "  drive_root = mount + \"/My Drive/Colab Notebooks/NYU/demo\"\n",
        "  \n",
        "  # Create drive_root if it doesn't exist\n",
        "  create_drive_root = True\n",
        "  if create_drive_root:\n",
        "    print(\"\\nColab: making sure \", drive_root, \" exists.\")\n",
        "    os.makedirs(drive_root, exist_ok=True)\n",
        "  \n",
        "  # Change to the directory\n",
        "  print(\"\\nColab: Changing directory to \", drive_root)\n",
        "  %cd $drive_root\n",
        "else:\n",
        "    raise RuntimeError(\"This notebook should be run from Colab, not on the local machine\")"
      ]
    },
    {
      "cell_type": "markdown",
      "metadata": {
        "id": "GAyT9aYfrdpP"
      },
      "source": [
        "# Work with files on the Google Drive\n",
        "- existing files\n",
        "- upload files to Google Drive (as per normal)\n",
        "- load files from external source"
      ]
    },
    {
      "cell_type": "code",
      "execution_count": 17,
      "metadata": {
        "colab": {
          "base_uri": "https://localhost:8080/",
          "height": 35
        },
        "id": "peo8mRnO3vYr",
        "outputId": "8e1eb863-b398-4118-e405-d863357852ba"
      },
      "outputs": [
        {
          "output_type": "execute_result",
          "data": {
            "text/plain": [
              "'/content/gdrive/My Drive/Colab Notebooks/NYU/demo'"
            ],
            "application/vnd.google.colaboratory.intrinsic+json": {
              "type": "string"
            }
          },
          "metadata": {},
          "execution_count": 17
        }
      ],
      "source": [
        "# Verify we're in the correct working directory\n",
        "%pwd"
      ]
    },
    {
      "cell_type": "markdown",
      "metadata": {
        "id": "VQY5DBAl8S7_"
      },
      "source": [
        "## Fill the working directory from our Git repo !"
      ]
    },
    {
      "cell_type": "code",
      "execution_count": 18,
      "metadata": {
        "colab": {
          "base_uri": "https://localhost:8080/"
        },
        "id": "8ISJwKZ2342C",
        "outputId": "09fecd0c-add1-4465-ad4e-2c1b3741acf2"
      },
      "outputs": [
        {
          "output_type": "stream",
          "name": "stdout",
          "text": [
            "Refreshing from Git url:  https://github.com/kenperry-public/ML_Fall_2021.git\n",
            "/content/gdrive/My Drive/Colab Notebooks/NYU/demo/ML_Fall_2021\n",
            "Already up to date.\n",
            "\n",
            "Change working directory to repo root\n",
            "/content/gdrive/My Drive/Colab Notebooks/NYU/demo/ML_Fall_2021\n"
          ]
        }
      ],
      "source": [
        "# Let's load the working directory from our Git repo !\n",
        "repo = \"ML_Fall_2021\"\n",
        "repo_url = \"https://github.com/kenperry-public/{r}.git\".format(r=repo)\n",
        "\n",
        "import os\n",
        "# Clone the repo unless it is already there\n",
        "repo_root = os.path.join(drive_root, repo)\n",
        "\n",
        "# Clone or refresh from the repo depending on whether we've cloned before\n",
        "if not os.path.exists( repo_root ):\n",
        "  print(\"Cloning from Git url: \", repo_url)\n",
        "  ! git clone $repo_url\n",
        "else:\n",
        "  print(\"Refreshing from Git url: \", repo_url)\n",
        "  %cd $repo_root\n",
        "  ! git pull\n",
        "\n",
        "\n",
        "print(\"\\nChange working directory to repo root\")\n",
        "%cd $repo_root"
      ]
    },
    {
      "cell_type": "markdown",
      "metadata": {
        "id": "-oDR3dpx8z5E"
      },
      "source": [
        "## Verify that imports (of modules on the Google Drive) work"
      ]
    },
    {
      "cell_type": "code",
      "execution_count": 19,
      "metadata": {
        "colab": {
          "base_uri": "https://localhost:8080/"
        },
        "id": "mZyewzHQ8iDH",
        "outputId": "f6c397c6-af69-4708-8486-f65893d11409"
      },
      "outputs": [
        {
          "output_type": "stream",
          "name": "stdout",
          "text": [
            "The autoreload extension is already loaded. To reload it, use:\n",
            "  %reload_ext autoreload\n"
          ]
        }
      ],
      "source": [
        "# Reload all modules imported with %aimport\n",
        "%load_ext autoreload\n",
        "%autoreload 1"
      ]
    },
    {
      "cell_type": "code",
      "execution_count": 20,
      "metadata": {
        "id": "1aZm6xXr8usM"
      },
      "outputs": [],
      "source": [
        "import numpy as np\n",
        "import neural_net_helper\n",
        "%aimport neural_net_helper\n",
        "\n",
        "nnh = neural_net_helper.NN_Helper()"
      ]
    },
    {
      "cell_type": "code",
      "execution_count": 21,
      "metadata": {
        "colab": {
          "base_uri": "https://localhost:8080/",
          "height": 447
        },
        "id": "R3x-5GUe9Hy7",
        "outputId": "54e00b9f-d0f7-49e1-c6fa-13c07cf1ecfb"
      },
      "outputs": [
        {
          "output_type": "display_data",
          "data": {
            "text/plain": [
              "<Figure size 1152x576 with 6 Axes>"
            ],
            "image/png": "[encoded data removed]"
          },
          "metadata": {
            "needs_background": "light"
          }
        }
      ],
      "source": [
        "\n",
        "fig, _ = nnh.plot_activations( np.arange(-3,3, 0.1) )"
      ]
    },
    {
      "cell_type": "code",
      "execution_count": 22,
      "metadata": {
        "colab": {
          "base_uri": "https://localhost:8080/"
        },
        "id": "NAmHZV0zJJW3",
        "outputId": "c4628fc3-abd2-4f9b-d426-b879eff0ee6e"
      },
      "outputs": [
        {
          "output_type": "stream",
          "name": "stdout",
          "text": [
            "Done\n"
          ]
        }
      ],
      "source": [
        "print(\"Done\")"
      ]
    }
  ],
  "metadata": {
    "colab": {
      "collapsed_sections": [],
      "name": "Colab_practical.ipynb",
      "provenance": [],
      "toc_visible": true
    },
    "kernelspec": {
      "display_name": "Python 3",
      "language": "python",
      "name": "python3"
    },
    "language_info": {
      "codemirror_mode": {
        "name": "ipython",
        "version": 3
      },
      "file_extension": ".py",
      "mimetype": "text/x-python",
      "name": "python",
      "nbconvert_exporter": "python",
      "pygments_lexer": "ipython3",
      "version": "3.7.4"
    },
    "toc": {
      "base_numbering": 1,
      "nav_menu": {},
      "number_sections": true,
      "sideBar": true,
      "skip_h1_title": false,
      "title_cell": "Table of Contents",
      "title_sidebar": "Contents",
      "toc_cell": false,
      "toc_position": {},
      "toc_section_display": true,
      "toc_window_display": false
    },
    "accelerator": "GPU"
  },
  "nbformat": 4,
  "nbformat_minor": 0
}