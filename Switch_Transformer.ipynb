{
 "cells": [
  {
   "cell_type": "code",
   "execution_count": 1,
   "metadata": {
    "slideshow": {
     "slide_type": "notes"
    }
   },
   "outputs": [
    {
     "data": {
      "text/latex": [
       "$$\n",
       "\\newcommand{\\x}{\\mathbf{x}}\n",
       "\\newcommand{\\tx}{\\tilde{\\x}}\n",
       "\\newcommand{\\y}{\\mathbf{y}}\n",
       "\\newcommand{\\b}{\\mathbf{b}}\n",
       "\\newcommand{\\c}{\\mathbf{c}}\n",
       "\\newcommand{\\e}{\\mathbf{e}}\n",
       "\\newcommand{\\z}{\\mathbf{z}}\n",
       "\\newcommand{\\h}{\\mathbf{h}}\n",
       "\\newcommand{\\u}{\\mathbf{u}}\n",
       "\\newcommand{\\v}{\\mathbf{v}}\n",
       "\\newcommand{\\w}{\\mathbf{w}}\n",
       "\\newcommand{\\V}{\\mathbf{V}}\n",
       "\\newcommand{\\W}{\\mathbf{W}}\n",
       "\\newcommand{\\X}{\\mathbf{X}}\n",
       "\\newcommand{\\KL}{\\mathbf{KL}}\n",
       "\\newcommand{\\E}{{\\mathbb{E}}}\n",
       "\\newcommand{\\Reals}{{\\mathbb{R}}}\n",
       "\\newcommand{\\ip}{\\mathbf{{(i)}}}\n",
       "%\n",
       "% Test set\n",
       "\\newcommand{\\xt}{\\underline{\\x}}\n",
       "\\newcommand{\\yt}{\\underline{\\y}}\n",
       "\\newcommand{\\Xt}{\\underline{\\X}}\n",
       "\\newcommand{\\perfm}{\\mathcal{P}}\n",
       "%\n",
       "% \\ll indexes a layer; we can change the actual letter\n",
       "\\newcommand{\\ll}{l}\n",
       "\\newcommand{\\llp}{{(\\ll)}}\n",
       "%\n",
       "\\newcommand{Thetam}{\\Theta_{-0}}\n",
       "\n",
       "% CNN\n",
       "\\newcommand{\\kernel}{\\mathbf{k}} \n",
       "\\newcommand{\\dim}{d}\n",
       "\\newcommand{\\idxspatial}{{\\text{idx}}}\n",
       "\\newcommand{\\summaxact}{\\text{max}}\n",
       "%\n",
       "%\n",
       "\n",
       "% RNN\n",
       "% \\tt indexes a time step\n",
       "\\newcommand{\\tt}{t}\n",
       "\\newcommand{\\tp}{{(\\tt)}}\n",
       "%\n",
       "%\n",
       "\n",
       "% LSTM\n",
       "\\newcommand{\\g}{\\mathbf{g}}\n",
       "\\newcommand{\\remember}{\\mathbf{remember}}\n",
       "\\newcommand{\\save}{\\mathbf{save}}\n",
       "\\newcommand{\\focus}{\\mathbf{focus}}\n",
       "%\n",
       "%\n",
       "% NLP\n",
       "\\newcommand{\\Vocab}{\\mathbf{V}}\n",
       "\\newcommand{\\v}{\\mathbf{v}}\n",
       "\\newcommand{\\offset}{o}\n",
       "\\newcommand{\\o}{o}\n",
       "\\newcommand{\\Emb}{\\mathbf{E}}\n",
       "%\n",
       "%\n",
       "\\newcommand{\\loss}{\\mathcal{L}}\n",
       "\\newcommand{\\cost}{\\mathcal{L}}\n",
       "%\n",
       "%                     \n",
       "\\newcommand{\\pdata}{p_\\text{data}}\n",
       "\\newcommand{\\pmodel}{p_\\text{model}}\n",
       "%\n",
       "% SVM\n",
       "\\newcommand{\\margin}{{\\mathbb{m}}}\n",
       "\\newcommand{\\lmk}{\\boldsymbol{\\ell}}\n",
       "%\n",
       "%\n",
       "% Functions with arguments\n",
       "\\def\\xsy#1#2{#1^#2}\n",
       "\\def\\rand#1{\\tilde{#1}}\n",
       "\\def\\randx{\\rand{\\x}}\n",
       "\\def\\randy{\\rand{\\y}}\n",
       "\\def\\trans#1{\\dot{#1}}\n",
       "\\def\\transx{\\trans{\\x}}\n",
       "\\def\\transy{\\trans{\\y}}\n",
       "%\n",
       "\\def\\argmax#1{\\underset{#1} {\\operatorname{argmax}} }\n",
       "\\def\\argmin#1{\\underset{#1} {\\operatorname{argmin}} }\n",
       "\\def\\max#1{\\underset{#1} {\\operatorname{max}} }\n",
       "\\def\\min#1{\\underset{#1} {\\operatorname{min}} }\n",
       "%\n",
       "\\def\\pr#1{\\mathcal{p}(#1)}\n",
       "\\def\\prc#1#2{\\mathcal{p}(#1 \\; | \\; #2)}\n",
       "\\def\\cnt#1{\\mathcal{count}_{#1}}\n",
       "\\def\\node#1{\\mathbb{#1}}\n",
       "%\n",
       "\\def\\loc#1{{\\text{##} {#1}}}\n",
       "%\n",
       "\\def\\OrderOf#1{\\mathcal{O}\\left( #1 \\right)}\n",
       "%\n",
       "% Expectation operator\n",
       "\\def\\Exp#1{\\underset{#1} {\\operatorname{\\mathbb{E}}} }\n",
       "%\n",
       "% VAE\n",
       "\\def\\prs#1#2{\\mathcal{p}_{#2}(#1)}\n",
       "\\def\\qr#1{\\mathcal{q}(#1)}\n",
       "\\def\\qrs#1#2{\\mathcal{q}_{#2}(#1)}\n",
       "%\n",
       "% Reinforcement learning\n",
       "\\newcommand{\\Actions}{{\\mathcal{A}}} \n",
       "\\newcommand{\\actseq}{A}\n",
       "\\newcommand{\\act}{a}\n",
       "\\newcommand{\\States}{{\\mathcal{S}}}   \n",
       "\\newcommand{\\stateseq}{S}  \n",
       "\\newcommand{\\state}{s}\n",
       "\\newcommand{\\Rewards}{{\\mathcal{R}}}\n",
       "\\newcommand{\\rewseq}{R}\n",
       "\\newcommand{\\rew}{r}\n",
       "\\newcommand{\\transp}{P}\n",
       "\\newcommand{\\statevalfun}{v}\n",
       "\\newcommand{\\actvalfun}{q}\n",
       "\\newcommand{\\disc}{\\gamma}\n",
       "%\n",
       "%\n",
       "\\newcommand{\\floor}[1]{\\left\\lfloor #1 \\right\\rfloor}\n",
       "\\newcommand{\\ceil}[1]{\\left\\lceil #1 \\right\\rceil}\n",
       "%\n",
       "%\n",
       "$$\n"
      ],
      "text/plain": [
       "<IPython.core.display.Latex object>"
      ]
     },
     "metadata": {},
     "output_type": "display_data"
    }
   ],
   "source": [
    "%run Latex_macros.ipynb"
   ]
  },
  {
   "cell_type": "markdown",
   "metadata": {
    "slideshow": {
     "slide_type": "slide"
    }
   },
   "source": [
    "**References**\n",
    "- [Switch Transformer](https://arxiv.org/pdf/2101.03961.pdf)\n",
    "- [Towards Understanding Mixture of Experts in Deep Learning](https://arxiv.org/pdf/2208.02813.pdf)"
   ]
  },
  {
   "cell_type": "markdown",
   "metadata": {
    "slideshow": {
     "slide_type": "slide"
    }
   },
   "source": [
    "# Scaling Laws\n",
    "\n",
    "In our module on [Transformer Scaling](Transformers_Scaling.ipynb) we learned\n",
    "- that a model with more parameters (denoted $N$)\n",
    "- is more example-efficient\n",
    "    - for a given loss level $L$: a large model achieves $L$ with fewer examples than a smaller model\n",
    "- but at the cost of greater computation $C$\n",
    "    - each parameters is consumed in some computation\n",
    "\n",
    "<table>\n",
    "    <tr>\n",
    "        <img src=\"images/scaling_loss_vs_datasize_compute.png\">\n",
    "    </tr>\n",
    "    \n",
    "Attribution: https://arxiv.org/pdf/2001.08361.pdf#page=4\n",
    "</table>"
   ]
  },
  {
   "cell_type": "markdown",
   "metadata": {
    "slideshow": {
     "slide_type": "subslide"
    }
   },
   "source": [
    "This module describes a technique to facilitate\n",
    "- large models (greater $N$)\n",
    "- without increasing computation $C$"
   ]
  },
  {
   "cell_type": "markdown",
   "metadata": {
    "slideshow": {
     "slide_type": "slide"
    }
   },
   "source": [
    "# Mixture of Experts (MoE)\n",
    "\n",
    "Let us consider a binary classification task\n",
    "- given an example $(\\x, \\y)$ where\n",
    "    - $\\x$ is from distribution $\\mathcal{D}$\n",
    "    - $\\y \\in \\{ 0, 1\\}$\n",
    "- compute $\\pr{ \\y = 1 | \\x \\in \\mathcal{D} }$\n",
    "\n",
    "We would typically solve this task by constructing a Neural Network with $N$ parameters $\\Theta$\n",
    "- computing $p_\\Theta( \\y = 1 | \\x \\in \\mathcal{D} ) \\approx \\pr{ \\y = 1 | \\x \\in \\mathcal{D} }$"
   ]
  },
  {
   "cell_type": "markdown",
   "metadata": {
    "slideshow": {
     "slide_type": "subslide"
    }
   },
   "source": [
    "The idea of a *Mixture of Experts (MoE)*\n",
    "- is to use a union of $M$ distinct neural networks\n",
    "- where Neural Network with index $m$ is an *expert* in solving the tasks for examples in a subset of $\\mathcal{D}$\n",
    "\n",
    "Neural Network with index $m$\n",
    "- has its own set of parameters $\\Theta_m$, ($0 \\le m \\le M-1$)\n",
    "    - each of size $N$\n",
    "- specializing in classifying a subset $\\mathcal{E}_m$ of $\\mathcal{D}$\n",
    "\n",
    "$$\n",
    "\\begin{array} \\\\\n",
    "p_{\\Theta_m}(\\y = 1 | \\x \\in \\mathcal{E}_m) \\\\\n",
    "\\cup_{m=1}^M \\mathcal{E}_m  = \\mathcal{D}\n",
    "\\end{array}\n",
    "$$\n"
   ]
  },
  {
   "cell_type": "markdown",
   "metadata": {
    "slideshow": {
     "slide_type": "subslide"
    }
   },
   "source": [
    "It would seem plausible that the Mixture of Experts\n",
    "- would have lower loss on approximating $\\pr{ \\y = 1 | \\x \\in \\mathcal{D} }$\n",
    "- than the single model $p_\\Theta$\n",
    "\n",
    "Unfortunately: this comes at the cost of a factor of $M$ more parameters."
   ]
  },
  {
   "cell_type": "markdown",
   "metadata": {
    "slideshow": {
     "slide_type": "subslide"
    }
   },
   "source": [
    "For example, \n",
    "Suppose that the $\\x \\in \\mathcal{D}$ naturally form $C$ clusters $\\{\\mathcal{D}_1, \\ldots \\mathcal{D}_C \\}$\n",
    "$$\n",
    "\\mathcal{D}  = \\cup_{c=1}^C \\mathcal{D}_k\n",
    "$$\n",
    "- e.g., each cluster is a \"topic\" (Business, Arts, Science) or language (English, French, Mandarin)\n",
    "\n",
    "Lettng \n",
    "- $M = C$\n",
    "- $\\mathcal{E}_m = \\mathcal{D}_m$\n",
    "- we devote one expert per cluster"
   ]
  },
  {
   "cell_type": "markdown",
   "metadata": {
    "slideshow": {
     "slide_type": "subslide"
    }
   },
   "source": [
    "In order to make this idea complete, we hypothesize a *router*\n",
    "- that computes the probability that example $\\x$ is best suited to Expert $m$\n",
    "- computes a vector of length $M$ \n",
    "$$\n",
    "p_0 (\\x), \\ldots, p_{M-1}(\\x) \n",
    "$$\n",
    "- such that \n",
    "$$\n",
    "p_m (\\x) = \\pr{ \\x \\in \\mathcal{E}_m }\n",
    "$$\n",
    "\n",
    "The idea would be to \"route\" example $\\x$ to the expert(s) best suited for its classification."
   ]
  },
  {
   "cell_type": "markdown",
   "metadata": {
    "slideshow": {
     "slide_type": "subslide"
    }
   },
   "source": [
    "The Mixture of Experts network could compute the probability weighted sum of the experts\n",
    "$$\n",
    "\\sum_{m=0}^{M-1} { p_m(\\x) * p_{\\Theta_m}(\\y=1 | \\x ) } \n",
    "$$\n"
   ]
  },
  {
   "cell_type": "markdown",
   "metadata": {
    "slideshow": {
     "slide_type": "subslide"
    }
   },
   "source": [
    "<table>\n",
    "    <center><strong>Mixture of Experts Layer</strong></center>\n",
    "    <tr>\n",
    "        <img src=\"images/moe_layer.png\" width=60%>\n",
    "    </tr>\n",
    "    \n",
    "Attribution: https://arxiv.org/pdf/2208.02813.pdf#page=6\n",
    "</table>"
   ]
  },
  {
   "cell_type": "markdown",
   "metadata": {
    "slideshow": {
     "slide_type": "subslide"
    }
   },
   "source": [
    "In an idealized world\n",
    "- the vector \n",
    "would have a single element $m'$ with\n",
    "$$\n",
    "p_i (\\x) = \n",
    "\\begin{cases}\n",
    " 1 & i = m'   \\\\\n",
    " 0 & i \\ne m' \\\\\n",
    "\\end{cases}\n",
    "\\text{ where } \\x \\in \\mathcal{E}_{m'} \n",
    "$$\n",
    "- we could somehow avoid computing $p_{\\Theta_m}(\\y=1 | \\x ) $ for experts with $0$ probability  $p_m(\\x)$"
   ]
  },
  {
   "cell_type": "markdown",
   "metadata": {
    "slideshow": {
     "slide_type": "subslide"
    }
   },
   "source": [
    "But, in a non-idealized world where each expert has a non-zero $p_i(\\x)$\n",
    "- the amount of computation is $M$ times that of the single Neural Network\n",
    "- since each expert $m$ must compute $p_{\\Theta_m}(\\y=1 | \\x ) $\n",
    "\n",
    "In summary: the naive MoE model increases (by a factor of $M$) both\n",
    "- parameters\n",
    "- computation"
   ]
  },
  {
   "cell_type": "markdown",
   "metadata": {
    "slideshow": {
     "slide_type": "subslide"
    }
   },
   "source": [
    "A way to increase\n",
    "- number of parameters by factor of $M$\n",
    "- but increase computation by a *constant* factor $k \\ge 1$\n",
    "- is to sort the probabilities\n",
    "$$\n",
    "p_{m_0}(\\x) \\ge p_{m_1}(\\x) \\ge \\ldots \\ge p_{m_{M-1}}(\\x)\n",
    "$$\n",
    "- and route $\\x$ to only the *top-k* experts\n",
    "    - $T_x = \\{ m_0, \\ldots, m_{k -1}\\}$\n",
    "- normalizing the $k$ probabilities to sum to $1$"
   ]
  },
  {
   "cell_type": "markdown",
   "metadata": {
    "slideshow": {
     "slide_type": "subslide"
    }
   },
   "source": [
    "Thus we\n",
    "- have a bigger model (factor of $M$)\n",
    "- with constant multiplicative increase in computation\n",
    "\n",
    "When $k \\lt M$, some of the experts are not activated for each example.\n",
    "\n",
    "We call such a model *sparsely activated* (as opposed to *densely activated*)."
   ]
  },
  {
   "cell_type": "markdown",
   "metadata": {
    "slideshow": {
     "slide_type": "slide"
    }
   },
   "source": [
    "# Training an MoE model\n",
    "\n",
    "The idea sounds simple enough\n",
    "- construct a sub-network for the router, computing\n",
    "$$\n",
    "p_0 (\\x), \\ldots, p_{M-1}(\\x) \n",
    "$$\n",
    "- construct $M$ sub-networks of identical experts (with *separate* weights) \n",
    "- jointly train the model on a standard training set of examples $\\langle \\x, \\y \\rangle$\n",
    "\n",
    "We just jointly train the sub-networks to optimize the Loss function.\n",
    "- [See](https://arxiv.org/pdf/2208.02813.pdf#page=6)\n"
   ]
  },
  {
   "cell_type": "markdown",
   "metadata": {
    "slideshow": {
     "slide_type": "slide"
    }
   },
   "source": [
    "As is the usual practice with Neural Networks\n",
    "- we are not pre-determining\n",
    "    - how the router decides which expert is best for a given $\\x$\n",
    "    - which subset $\\mathcal{E}_m$ the expert with index $m$ decides to specialize on"
   ]
  },
  {
   "cell_type": "markdown",
   "metadata": {
    "slideshow": {
     "slide_type": "subslide"
    }
   },
   "source": [
    "It is somewhat of a miracle that joint training works.\n",
    "\n",
    "For instance, \n",
    "the MoE model could collapse to using a single expert $m'$ for all examples\n",
    "- router ignores $\\x$ and computes\n",
    "    $$\n",
    "p_i (\\x) = \n",
    "\\begin{cases}\n",
    " 1 & i = m'   \\\\\n",
    " 0 & i \\ne m' \\\\\n",
    "\\end{cases}\n",
    "\\text{ for all } \\x \n",
    "$$\n"
   ]
  },
  {
   "cell_type": "markdown",
   "metadata": {
    "slideshow": {
     "slide_type": "subslide"
    }
   },
   "source": [
    "This would seem to be an issue in the early epochs\n",
    "- experts have initialization from same distribution\n",
    "    - each has expected classification probability of $p_{\\Theta_m}(\\y = 1) = 0.5$\n",
    "    - minor differences not significant\n",
    "    - but may influence the router\n",
    "    "
   ]
  },
  {
   "cell_type": "markdown",
   "metadata": {
    "slideshow": {
     "slide_type": "subslide"
    }
   },
   "source": [
    "A related issue should be familiar to those familiar with Reinforcement Learning\n",
    "- trade-off between exploitation and exploration\n",
    "    - router would favor highest probability expert, even when probability differences are insignificant\n",
    "        - *exploitation*\n",
    "    - router might learn of a better routing by only choosing *non-highest-rated expert* with some probability\n",
    "        - *exploration*"
   ]
  },
  {
   "cell_type": "markdown",
   "metadata": {
    "slideshow": {
     "slide_type": "subslide"
    }
   },
   "source": [
    "The [hard switching](https://arxiv.org/pdf/2101.03961.pdf#page=8) of the router\n",
    "can also cause instability\n",
    "- an insignificant difference in routing probabilities $p_i(\\x)$ and $p_{i'}(\\x)$ causes $\\x$ to \n",
    "*always* be routed to expert $i$\n",
    "- soft choice distributes the probability almost evenly between $i$ and $i'$"
   ]
  },
  {
   "cell_type": "markdown",
   "metadata": {
    "slideshow": {
     "slide_type": "subslide"
    }
   },
   "source": [
    "In practice, methods to avoid this includes\n",
    "- [sample from the argmax](https://arxiv.org/pdf/2101.03961.pdf#page=29) (that determines the top-k experts) rather than using deterministic choice\n",
    "- [add noise](https://arxiv.org/pdf/2208.02813.pdf#page=6) to $p_i(\\x)$"
   ]
  },
  {
   "cell_type": "markdown",
   "metadata": {
    "slideshow": {
     "slide_type": "subslide"
    }
   },
   "source": [
    "Another issue\n",
    "- the `argmax` (used in choosing top-k)\n",
    "    - is a hard choice\n",
    "    - not a soft choice (as in using a sigmoid to implement a [soft](http://localhost:8888/notebooks/NYU/Neural_Programming.ipynb#%22If%22-statements---Gates) if-then-else\n",
    "    - so is not differentiable\n",
    "    \n",
    "I believe this is not an issue\n",
    "- since the gradient that would be routed to an inactive expert would be $0$ in any event"
   ]
  },
  {
   "cell_type": "markdown",
   "metadata": {
    "slideshow": {
     "slide_type": "slide"
    }
   },
   "source": [
    "# Switch Transformer\n",
    "\n",
    "The Switch Transformer uses a Mixture of Experts\n",
    "- to replace the Feed Forward Network (FFN) component of a Transformer\n",
    "- every few Transformer blocks\n",
    "\n",
    "It chooses $k=1$\n",
    "- routing to a single expert"
   ]
  },
  {
   "cell_type": "markdown",
   "metadata": {
    "slideshow": {
     "slide_type": "slide"
    }
   },
   "source": [
    "<table>\n",
    "    <center><strong>Switch Transformer Encoder</strong></center>\n",
    "    <tr>\n",
    "        <img src=\"images/switch_transformer_encoder.png\" width=75%>\n",
    "    </tr>\n",
    "    \n",
    "Attribution: https://arxiv.org/pdf/2101.03961.pdf#page=5\n",
    "</table>"
   ]
  },
  {
   "cell_type": "markdown",
   "metadata": {
    "slideshow": {
     "slide_type": "subslide"
    }
   },
   "source": [
    "## Optimization\n",
    "\n",
    "The  [Switch Transformer](https://arxiv.org/pdf/2101.03961.pdf) paper is very concerned\n",
    "with maximizing computational potential.\n",
    "\n",
    "Suppose the $M$ experts are distributed over several computational units (cores or processors)\n",
    "- if too many tokens in a mini-batch are routed to the same expert $m$\n",
    "- expert $m$ becomes a bottle-neck\n",
    "- while all the computational units of the other experts $m' \\ne m$ are idle"
   ]
  },
  {
   "cell_type": "markdown",
   "metadata": {
    "slideshow": {
     "slide_type": "subslide"
    }
   },
   "source": [
    "Their solution \n",
    "- define a *capacity* for each expert\n",
    "    - number of buffers allocated to each expert: maximum number of tokens it can accommodate\n",
    "- implement [differentiable load-balancing](https://arxiv.org/pdf/2101.03961.pdf#page=7)\n",
    "    - add a term to the Loss that penalizes for a non-uniform distribution of tokens to experts\n",
    "$$\n",
    "\\begin{array} \\\\\n",
    "f_m & = & \\frac{1}{T} \\sum_{\\x \\in \\text{batch}} { 1 * \\left( \\text{argmax}( p(\\x) ) = m \\right) } &\\text{fraction of tokens dispatached to expert } m \\\\\n",
    "P_m & = & \\frac{1}{T} \\sum_{\\x \\in \\text{batch}} { p_m (\\x) } & \\text{fraction of probability allocated to expert } m \\\\\n",
    "\\loss_\\text{load balance} & = & \\alpha * M * \\sum_{m=0}^{M-1} { f_m * P_m } &  \\text{minimized when each term is } \\frac{1}{M} \\\\ \n",
    "& & & \\alpha \\text{ is relative importance of load-balancing to other loss terms } \\\\\n",
    "& & & \\text{multiply by } M \\text{ so term is insensitive to number of experts}\n",
    "\\end{array}\n",
    "$$\n",
    "- [Note](https://arxiv.org/pdf/2101.03961.pdf#page=8)\n",
    "    - $P$-vector is differentiable, $f$ vector is not"
   ]
  },
  {
   "cell_type": "markdown",
   "metadata": {
    "slideshow": {
     "slide_type": "subslide"
    }
   },
   "source": [
    "This is an example of\n",
    "- practical engineering, supported by math\n",
    "- rather than theoretical perfection"
   ]
  },
  {
   "cell_type": "code",
   "execution_count": 2,
   "metadata": {
    "slideshow": {
     "slide_type": "slide"
    }
   },
   "outputs": [
    {
     "name": "stdout",
     "output_type": "stream",
     "text": [
      "Done\n"
     ]
    }
   ],
   "source": [
    "print(\"Done\")"
   ]
  }
 ],
 "metadata": {
  "celltoolbar": "Slideshow",
  "kernelspec": {
   "display_name": "Python 3",
   "language": "python",
   "name": "python3"
  },
  "language_info": {
   "codemirror_mode": {
    "name": "ipython",
    "version": 3
   },
   "file_extension": ".py",
   "mimetype": "text/x-python",
   "name": "python",
   "nbconvert_exporter": "python",
   "pygments_lexer": "ipython3",
   "version": "3.7.4"
  },
  "toc": {
   "base_numbering": 1,
   "nav_menu": {},
   "number_sections": true,
   "sideBar": true,
   "skip_h1_title": false,
   "title_cell": "Table of Contents",
   "title_sidebar": "Contents",
   "toc_cell": false,
   "toc_position": {
    "height": "calc(100% - 180px)",
    "left": "10px",
    "top": "150px",
    "width": "369.188px"
   },
   "toc_section_display": true,
   "toc_window_display": true
  }
 },
 "nbformat": 4,
 "nbformat_minor": 2
}
